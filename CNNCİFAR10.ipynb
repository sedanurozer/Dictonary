{
  "nbformat": 4,
  "nbformat_minor": 0,
  "metadata": {
    "colab": {
      "name": "Untitled0.ipynb",
      "provenance": [],
      "collapsed_sections": [],
      "authorship_tag": "ABX9TyM16El2yezFhJfRgKsbodf/",
      "include_colab_link": true
    },
    "kernelspec": {
      "name": "python3",
      "display_name": "Python 3"
    },
    "language_info": {
      "name": "python"
    },
    "accelerator": "GPU"
  },
  "cells": [
    {
      "cell_type": "markdown",
      "metadata": {
        "id": "view-in-github",
        "colab_type": "text"
      },
      "source": [
        "<a href=\"https://colab.research.google.com/github/sedanurozer/Dictonary/blob/master/CNNC%C4%B0FAR10.ipynb\" target=\"_parent\"><img src=\"https://colab.research.google.com/assets/colab-badge.svg\" alt=\"Open In Colab\"/></a>"
      ]
    },
    {
      "cell_type": "code",
      "metadata": {
        "id": "TcwisK7MFltb"
      },
      "source": [
        "import tensorflow as tf\n",
        "import matplotlib.pyplot as plt\n",
        "from tensorflow.keras.datasets import cifar10 \n",
        "import numpy as np\n",
        "import matplotlib.pyplot as plt\n",
        "import pandas as pd   \n"
      ],
      "execution_count": 37,
      "outputs": []
    },
    {
      "cell_type": "code",
      "metadata": {
        "colab": {
          "base_uri": "https://localhost:8080/"
        },
        "id": "rlVn2dKzFrvt",
        "outputId": "1781fe64-256f-4e0b-ef0c-34fccb2949da"
      },
      "source": [
        "class_names=['airplane','automobile','bird','cat','deer','dog','frog','horse','ship','truck']\n",
        "\n",
        "(x_train,y_train),(x_test,y_test)=cifar10.load_data()"
      ],
      "execution_count": 2,
      "outputs": [
        {
          "output_type": "stream",
          "text": [
            "Downloading data from https://www.cs.toronto.edu/~kriz/cifar-10-python.tar.gz\n",
            "170500096/170498071 [==============================] - 4s 0us/step\n"
          ],
          "name": "stdout"
        }
      ]
    },
    {
      "cell_type": "code",
      "metadata": {
        "colab": {
          "base_uri": "https://localhost:8080/"
        },
        "id": "4rTUoOzrFuKA",
        "outputId": "ce40dad8-7773-4059-9d03-19d5345205d2"
      },
      "source": [
        "x_train=x_train/255.0\n",
        "x_train.shape "
      ],
      "execution_count": 3,
      "outputs": [
        {
          "output_type": "execute_result",
          "data": {
            "text/plain": [
              "(50000, 32, 32, 3)"
            ]
          },
          "metadata": {
            "tags": []
          },
          "execution_count": 3
        }
      ]
    },
    {
      "cell_type": "code",
      "metadata": {
        "colab": {
          "base_uri": "https://localhost:8080/"
        },
        "id": "FL3nTiPFFxZl",
        "outputId": "fd675166-1217-4e25-ef81-cef663775372"
      },
      "source": [
        "x_test=x_test/255.0\n",
        "x_test.shape"
      ],
      "execution_count": 4,
      "outputs": [
        {
          "output_type": "execute_result",
          "data": {
            "text/plain": [
              "(10000, 32, 32, 3)"
            ]
          },
          "metadata": {
            "tags": []
          },
          "execution_count": 4
        }
      ]
    },
    {
      "cell_type": "code",
      "metadata": {
        "colab": {
          "base_uri": "https://localhost:8080/",
          "height": 266
        },
        "id": "IlThPHb8FzaJ",
        "outputId": "a0878565-ccd1-4047-ea1e-2f78f453bb58"
      },
      "source": [
        "img_array=plt.imshow(x_test[93])"
      ],
      "execution_count": 7,
      "outputs": [
        {
          "output_type": "display_data",
          "data": {
            "image/png": "[encoded data removed]",
            "text/plain": [
              "<Figure size 432x288 with 1 Axes>"
            ]
          },
          "metadata": {
            "tags": [],
            "needs_background": "light"
          }
        }
      ]
    },
    {
      "cell_type": "code",
      "metadata": {
        "colab": {
          "base_uri": "https://localhost:8080/"
        },
        "id": "uKhF5zpcF5Lm",
        "outputId": "d45fa080-cd7f-4ad7-f2bf-30dccefabbde"
      },
      "source": [
        "cifar10_model=tf.keras.models.Sequential()\n",
        "cifar10_model.add(tf.keras.layers.Conv2D(filters=16,kernel_size=5,padding=\"same\", activation=\"relu\", input_shape=[32,32,3]))\n",
        "cifar10_model.add(tf.keras.layers.Conv2D(filters=32,kernel_size=5,padding=\"same\", activation=\"relu\"))\n",
        "cifar10_model.add(tf.keras.layers.MaxPool2D(pool_size=2,strides=2,padding='valid'))\n",
        "cifar10_model.add(tf.keras.layers.Conv2D(filters=32,kernel_size=5,padding=\"same\", activation=\"relu\"))\n",
        "cifar10_model.add(tf.keras.layers.Conv2D(filters=32,kernel_size=5,padding=\"same\", activation=\"relu\"))\n",
        "cifar10_model.add(tf.keras.layers.MaxPool2D(pool_size=2,strides=2,padding='valid'))\n",
        "cifar10_model.add(tf.keras.layers.Flatten())\n",
        "cifar10_model.add(tf.keras.layers.Dropout(0.25,noise_shape=None,seed=None))\n",
        "cifar10_model.add(tf.keras.layers.Dense(units=128,activation='relu'))\n",
        "cifar10_model.add(tf.keras.layers.Dropout(0.25,noise_shape=None,seed=None))\n",
        "cifar10_model.add(tf.keras.layers.Dense(units=10,activation='softmax'))\n",
        "cifar10_model.summary()"
      ],
      "execution_count": 62,
      "outputs": [
        {
          "output_type": "stream",
          "text": [
            "Model: \"sequential_5\"\n",
            "_________________________________________________________________\n",
            "Layer (type)                 Output Shape              Param #   \n",
            "=================================================================\n",
            "conv2d_19 (Conv2D)           (None, 32, 32, 16)        1216      \n",
            "_________________________________________________________________\n",
            "conv2d_20 (Conv2D)           (None, 32, 32, 32)        12832     \n",
            "_________________________________________________________________\n",
            "max_pooling2d_10 (MaxPooling (None, 16, 16, 32)        0         \n",
            "_________________________________________________________________\n",
            "conv2d_21 (Conv2D)           (None, 16, 16, 32)        25632     \n",
            "_________________________________________________________________\n",
            "conv2d_22 (Conv2D)           (None, 16, 16, 32)        25632     \n",
            "_________________________________________________________________\n",
            "max_pooling2d_11 (MaxPooling (None, 8, 8, 32)          0         \n",
            "_________________________________________________________________\n",
            "flatten_5 (Flatten)          (None, 2048)              0         \n",
            "_________________________________________________________________\n",
            "dropout_10 (Dropout)         (None, 2048)              0         \n",
            "_________________________________________________________________\n",
            "dense_10 (Dense)             (None, 128)               262272    \n",
            "_________________________________________________________________\n",
            "dropout_11 (Dropout)         (None, 128)               0         \n",
            "_________________________________________________________________\n",
            "dense_11 (Dense)             (None, 10)                1290      \n",
            "=================================================================\n",
            "Total params: 328,874\n",
            "Trainable params: 328,874\n",
            "Non-trainable params: 0\n",
            "_________________________________________________________________\n"
          ],
          "name": "stdout"
        }
      ]
    },
    {
      "cell_type": "code",
      "metadata": {
        "colab": {
          "base_uri": "https://localhost:8080/"
        },
        "id": "yf3hPwwqF_js",
        "outputId": "59f65d47-8b35-46f0-b06c-847292d98bfb"
      },
      "source": [
        "cifar10_model.compile(loss=\"sparse_categorical_crossentropy\", optimizer=\"Adam\", metrics=[\"sparse_categorical_accuracy\"])\n",
        "history= cifar10_model.fit(x_train,y_train,epochs=15)"
      ],
      "execution_count": 63,
      "outputs": [
        {
          "output_type": "stream",
          "text": [
            "Epoch 1/15\n",
            "1563/1563 [==============================] - 8s 5ms/step - loss: 1.7904 - sparse_categorical_accuracy: 0.3370\n",
            "Epoch 2/15\n",
            "1563/1563 [==============================] - 7s 5ms/step - loss: 1.1948 - sparse_categorical_accuracy: 0.5741\n",
            "Epoch 3/15\n",
            "1563/1563 [==============================] - 7s 5ms/step - loss: 0.9997 - sparse_categorical_accuracy: 0.6464\n",
            "Epoch 4/15\n",
            "1563/1563 [==============================] - 7s 5ms/step - loss: 0.9029 - sparse_categorical_accuracy: 0.6864\n",
            "Epoch 5/15\n",
            "1563/1563 [==============================] - 7s 5ms/step - loss: 0.8172 - sparse_categorical_accuracy: 0.7122\n",
            "Epoch 6/15\n",
            "1563/1563 [==============================] - 7s 5ms/step - loss: 0.7734 - sparse_categorical_accuracy: 0.7284\n",
            "Epoch 7/15\n",
            "1563/1563 [==============================] - 7s 5ms/step - loss: 0.7093 - sparse_categorical_accuracy: 0.7527\n",
            "Epoch 8/15\n",
            "1563/1563 [==============================] - 7s 5ms/step - loss: 0.6756 - sparse_categorical_accuracy: 0.7626\n",
            "Epoch 9/15\n",
            "1563/1563 [==============================] - 7s 5ms/step - loss: 0.6455 - sparse_categorical_accuracy: 0.7726\n",
            "Epoch 10/15\n",
            "1563/1563 [==============================] - 7s 5ms/step - loss: 0.6062 - sparse_categorical_accuracy: 0.7874\n",
            "Epoch 11/15\n",
            "1563/1563 [==============================] - 7s 5ms/step - loss: 0.5819 - sparse_categorical_accuracy: 0.7925\n",
            "Epoch 12/15\n",
            "1563/1563 [==============================] - 7s 5ms/step - loss: 0.5634 - sparse_categorical_accuracy: 0.7993\n",
            "Epoch 13/15\n",
            "1563/1563 [==============================] - 7s 5ms/step - loss: 0.5537 - sparse_categorical_accuracy: 0.8036\n",
            "Epoch 14/15\n",
            "1563/1563 [==============================] - 7s 4ms/step - loss: 0.5172 - sparse_categorical_accuracy: 0.8173\n",
            "Epoch 15/15\n",
            "1563/1563 [==============================] - 7s 5ms/step - loss: 0.5053 - sparse_categorical_accuracy: 0.8197\n"
          ],
          "name": "stdout"
        }
      ]
    },
    {
      "cell_type": "code",
      "metadata": {
        "colab": {
          "base_uri": "https://localhost:8080/"
        },
        "id": "dH7LZMC1HEjK",
        "outputId": "c6f65d68-cbbd-4716-f441-b27d6d689f59"
      },
      "source": [
        "test_loss, test_accuracy = cifar10_model.evaluate(x_test, y_test)\n"
      ],
      "execution_count": 64,
      "outputs": [
        {
          "output_type": "stream",
          "text": [
            "313/313 [==============================] - 1s 3ms/step - loss: 0.7963 - sparse_categorical_accuracy: 0.7465\n"
          ],
          "name": "stdout"
        }
      ]
    },
    {
      "cell_type": "code",
      "metadata": {
        "colab": {
          "base_uri": "https://localhost:8080/"
        },
        "id": "YDooJJwkJ99c",
        "outputId": "1009871a-92e6-4aed-d0bc-ec2ac8de9db5"
      },
      "source": [
        "print(history.history.keys())"
      ],
      "execution_count": 65,
      "outputs": [
        {
          "output_type": "stream",
          "text": [
            "dict_keys(['loss', 'sparse_categorical_accuracy'])\n"
          ],
          "name": "stdout"
        }
      ]
    },
    {
      "cell_type": "code",
      "metadata": {
        "colab": {
          "base_uri": "https://localhost:8080/",
          "height": 320
        },
        "id": "Qm_Pfrl2HIii",
        "outputId": "7b6ca393-b339-443d-c574-f5c54960c308"
      },
      "source": [
        "pd.DataFrame(history.history).plot(figsize=(8,5))\n",
        "plt.show()\n"
      ],
      "execution_count": 66,
      "outputs": [
        {
          "output_type": "display_data",
          "data": {
            "image/png": "[encoded data removed]",
            "text/plain": [
              "<Figure size 576x360 with 1 Axes>"
            ]
          },
          "metadata": {
            "tags": [],
            "needs_background": "light"
          }
        }
      ]
    },
    {
      "cell_type": "code",
      "metadata": {
        "colab": {
          "base_uri": "https://localhost:8080/"
        },
        "id": "44Hho8QdNLLv",
        "outputId": "347cfc7b-a24d-4161-debe-bed6ac7df376"
      },
      "source": [
        "print(\"Test accuracy: {}\".format(test_accuracy*100))"
      ],
      "execution_count": 67,
      "outputs": [
        {
          "output_type": "stream",
          "text": [
            "Test accuracy: 74.6500015258789\n"
          ],
          "name": "stdout"
        }
      ]
    }
  ]
}